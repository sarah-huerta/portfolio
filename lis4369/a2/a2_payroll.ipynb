{
 "cells": [
  {
   "cell_type": "code",
   "execution_count": null,
   "id": "596b6b7a",
   "metadata": {},
   "outputs": [],
   "source": [
    "def get_requirements():\n",
    "    print(\"Payroll Calculator\")\n",
    "    print(\"\\nProgram Requirements:\\n\"\n",
    "    + \"1. Must use float data type for user input. \\n\"\n",
    "    + \"2. Overtime rate: 1.5 times hourly rate (hours over 40). \\n\"\n",
    "    + \"3. Holiday rate: 2.0 times hourly rate (all holiday hours). \\n\"\n",
    "    + \"4. Must format currency with dollar sign, and round to two decimal places. \\n\"\n",
    "    + \"5. Create at least three functions that are called by the program: \\n\"\n",
    "    + \"\\ta. main(): calls at least two other functions. \\n\"\n",
    "    + \"\\tb. get_requirments(): displays the program requirements. \\n\"\n",
    "    + \"\\tc. calculate_payroll(): calculatesß an individual one-week paycheck. \\n\")"
   ]
  },
  {
   "cell_type": "code",
   "execution_count": null,
   "id": "1d98a964",
   "metadata": {},
   "outputs": [],
   "source": [
    "def calculate_payroll():\n",
    "    #constants to represent base hours, overtime and holiday rates\n",
    "    BASE_HOURS = 40 #base hours\n",
    "    OT_RATE = 1.5 #overtime rate\n",
    "    HOLIDAY_RATE = 2.0 #holiday rate\n",
    "\n",
    "    #IPO: Input > Process > Output\n",
    "    #get user data\n",
    "    print(\"Input:\")\n",
    "    #get hours worked and hourly pay rate\n",
    "    hours = float(input('Enter hours worked: '))\n",
    "    holiday_hours = float(input('Enter holiday hours: '))\n",
    "    pay_rate = float(input('Enter hourly pay rate: '))\n",
    "\n",
    "    #Process:\n",
    "    #calculations\n",
    "    base_pay = BASE_HOURS * pay_rate\n",
    "    overtime_hours = hours - BASE_HOURS\n",
    "\n",
    "    #calculate and display gross pay\n",
    "\n",
    "    if hours > BASE_HOURS:\n",
    "        #calculate gross pay with overtime\n",
    "\n",
    "        #calculate overtime pay\n",
    "        overtime_pay = overtime_hours * pay_rate * OT_RATE\n",
    "\n",
    "        #calculate holiday pay\n",
    "        holiday_pay = holiday_hours * pay_rate * HOLIDAY_RATE\n",
    "\n",
    "        #calculate gross pay\n",
    "        gross_pay = BASE_HOURS * pay_rate + overtime_pay + holiday_pay\n",
    "        print_pay(base_pay, overtime_pay, holiday_pay, gross_pay)\n",
    "    else:\n",
    "        #calculate gross pay without overtime, but include holiday pay\n",
    "        overtime_pay = 0\n",
    "        holiday_pay = holiday_hours * pay_rate * HOLIDAY_RATE\n",
    "        gross_pay = hours * pay_rate + holiday_pay\n",
    "\n",
    "        # display pay\n",
    "        print_pay(base_pay, overtime_pay, holiday_pay, gross_pay)\n",
    "\n"
   ]
  },
  {
   "cell_type": "code",
   "execution_count": null,
   "id": "2a536485",
   "metadata": {},
   "outputs": [],
   "source": [
    "def print_pay(base_pay, overtime_pay, holiday_pay, gross_pay):\n",
    "    print(\"\\nOutput:\")\n",
    "    print(\"{0:<10} ${1:,.2f}\".format('Base:', base_pay))\n",
    "    print(\"{0:<10} ${1:,.2f}\".format('Overtime:', overtime_pay))\n",
    "    print(\"{0:<10} ${1:,.2f}\".format('Holiday:',holiday_pay))\n",
    "    print(\"{0:<10} ${1:,.2f}\".format('Gross:', gross_pay))"
   ]
  },
  {
   "cell_type": "code",
   "execution_count": 1,
   "id": "55ada5f7",
   "metadata": {},
   "outputs": [
    {
     "name": "stdout",
     "output_type": "stream",
     "text": [
      "Payroll Calculator\n",
      "\n",
      "Program Requirements:\n",
      "1. Must use float data type for user input. \n",
      "2. Overtime rate: 1.5 times hourly rate (hours over 40). \n",
      "3. Holiday rate: 2.0 times hourly rate (all holiday hours). \n",
      "4. Must format currency with dollar sign, and round to two decimal places. \n",
      "5. Create at least three functions that are called by the program: \n",
      "\ta. main(): calls at least two other functions. \n",
      "\tb. get_requirments(): displays the program requirements. \n",
      "\tc. calculate_payroll(): calculatesß an individual one-week paycheck. \n",
      "\n",
      "Input:\n",
      "Enter hours worked: 40\n",
      "Enter holiday hours: 10\n",
      "Enter hourly pay rate: 10\n",
      "\n",
      "Output:\n",
      "Base:      $400.00\n",
      "Overtime:  $0.00\n",
      "Holiday:   $200.00\n",
      "Gross:     $600.00\n"
     ]
    }
   ],
   "source": [
    "import functions as f\n",
    "\n",
    "def main():\n",
    "    f.get_requirements()\n",
    "    f.calculate_payroll()\n",
    "\n",
    "if __name__ == \"__main__\":\n",
    "    main()\n"
   ]
  },
  {
   "cell_type": "code",
   "execution_count": 2,
   "id": "f5852788",
   "metadata": {},
   "outputs": [
    {
     "name": "stdout",
     "output_type": "stream",
     "text": [
      "Payroll Calculator\n",
      "\n",
      "Program Requirements:\n",
      "1. Must use float data type for user input. \n",
      "2. Overtime rate: 1.5 times hourly rate (hours over 40). \n",
      "3. Holiday rate: 2.0 times hourly rate (all holiday hours). \n",
      "4. Must format currency with dollar sign, and round to two decimal places. \n",
      "5. Create at least three functions that are called by the program: \n",
      "\ta. main(): calls at least two other functions. \n",
      "\tb. get_requirments(): displays the program requirements. \n",
      "\tc. calculate_payroll(): calculatesß an individual one-week paycheck. \n",
      "\n",
      "Input:\n",
      "Enter hours worked: 50\n",
      "Enter holiday hours: 10\n",
      "Enter hourly pay rate: 10\n",
      "\n",
      "Output:\n",
      "Base:      $400.00\n",
      "Overtime:  $150.00\n",
      "Holiday:   $200.00\n",
      "Gross:     $750.00\n"
     ]
    }
   ],
   "source": [
    "if __name__ == \"__main__\":\n",
    "    main()"
   ]
  },
  {
   "cell_type": "code",
   "execution_count": null,
   "id": "e22280c3",
   "metadata": {},
   "outputs": [],
   "source": []
  }
 ],
 "metadata": {
  "kernelspec": {
   "display_name": "Python 3",
   "language": "python",
   "name": "python3"
  },
  "language_info": {
   "codemirror_mode": {
    "name": "ipython",
    "version": 3
   },
   "file_extension": ".py",
   "mimetype": "text/x-python",
   "name": "python",
   "nbconvert_exporter": "python",
   "pygments_lexer": "ipython3",
   "version": "3.8.8"
  }
 },
 "nbformat": 4,
 "nbformat_minor": 5
}
